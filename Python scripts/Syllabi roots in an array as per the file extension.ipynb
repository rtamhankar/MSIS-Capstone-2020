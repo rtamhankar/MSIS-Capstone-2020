{
 "cells": [
  {
   "cell_type": "code",
   "execution_count": 51,
   "metadata": {},
   "outputs": [],
   "source": [
    "import os \n",
    "# This is to get the directory that the program  \n",
    "# is currently running in. \n",
    "dir_path = os.path.dirname(os.path.realpath(\"C:\\\\Users\\\\Nachiket\\\\Desktop\\\\Capstone\\\\Syllabi\\\\\")) \n",
    "##print(dir_path)\n",
    "filepdf = []\n",
    "rootpdf = []\n",
    "filedoc = []\n",
    "rootdoc = []\n",
    "filedocx = []\n",
    "rootdocx = []\n",
    "path = []\n",
    "  \n",
    "for root, dirs, files in os.walk(dir_path): \n",
    "    for file in files:  \n",
    "  \n",
    "        # change the extension from '.mp3' to  \n",
    "        # the one of your choice. \n",
    "        if file.endswith('.pdf'):\n",
    "            #print (root+'/'+str(file))\n",
    "            a = root+'/'+str(file)\n",
    "            filepdf.append(file)\n",
    "            rootpdf.append(a)\n",
    "            ##print(a)\n",
    "        \n",
    "        elif file.endswith('.doc'):\n",
    "            #print (root+'/'+str(file))\n",
    "            b = root+'/'+str(file)\n",
    "            filedoc.append(file)\n",
    "            rootdoc.append(b)\n",
    "        \n",
    "        else: \n",
    "            #print (root+'/'+str(file))\n",
    "            c = root+'/'+str(file)\n",
    "            filedocx.append(file)\n",
    "            rootdocx.append(c)\n",
    "       "
   ]
  },
  {
   "cell_type": "code",
   "execution_count": 52,
   "metadata": {},
   "outputs": [],
   "source": [
    "import pandas as pd"
   ]
  },
  {
   "cell_type": "code",
   "execution_count": 53,
   "metadata": {},
   "outputs": [
    {
     "data": {
      "text/plain": [
       "['C:\\\\Users\\\\Nachiket\\\\Desktop\\\\Capstone\\\\Syllabi\\\\2017-18\\\\Fall 2017/Fall 2017 2603 - Fall 2017 Syllabus (1).pdf',\n",
       " 'C:\\\\Users\\\\Nachiket\\\\Desktop\\\\Capstone\\\\Syllabi\\\\2017-18\\\\Fall 2017/Fall 2017 2603 - Fall 2017 Syllabus.pdf',\n",
       " 'C:\\\\Users\\\\Nachiket\\\\Desktop\\\\Capstone\\\\Syllabi\\\\2017-18\\\\Fall 2017/Fall 2017 MBA 3250Syllabus.pdf',\n",
       " 'C:\\\\Users\\\\Nachiket\\\\Desktop\\\\Capstone\\\\Syllabi\\\\2017-18\\\\Fall 2017/Fall 2017 MSIS 2627.pdf',\n",
       " 'C:\\\\Users\\\\Nachiket\\\\Desktop\\\\Capstone\\\\Syllabi\\\\2017-18\\\\Fall 2017/Fall 2017 msis 2629 fall2017.pdf',\n",
       " 'C:\\\\Users\\\\Nachiket\\\\Desktop\\\\Capstone\\\\Syllabi\\\\2017-18\\\\Fall 2017/Fall 2017 MSIS2624-Syllabus-2017Fall-pdf (1).pdf',\n",
       " 'C:\\\\Users\\\\Nachiket\\\\Desktop\\\\Capstone\\\\Syllabi\\\\2017-18\\\\Fall 2017/Fall 2017 MSIS2624-Syllabus-2017Fall-pdf.pdf',\n",
       " 'C:\\\\Users\\\\Nachiket\\\\Desktop\\\\Capstone\\\\Syllabi\\\\2017-18\\\\Fall 2017/Fall 2017 MSIS2641_Fall2017_Syllabus-Seidler (1).pdf',\n",
       " 'C:\\\\Users\\\\Nachiket\\\\Desktop\\\\Capstone\\\\Syllabi\\\\2017-18\\\\Fall 2017/Fall 2017 MSIS2641_Fall2017_Syllabus-Seidler.pdf',\n",
       " 'C:\\\\Users\\\\Nachiket\\\\Desktop\\\\Capstone\\\\Syllabi\\\\2017-18\\\\Fall 2017/Fall 2017 MSIS2802 Fall 2017 syllabus.pdf',\n",
       " 'C:\\\\Users\\\\Nachiket\\\\Desktop\\\\Capstone\\\\Syllabi\\\\2017-18\\\\Fall 2017/Fall 2017 OMIS 108 - WARREN - FA 17.pdf',\n",
       " 'C:\\\\Users\\\\Nachiket\\\\Desktop\\\\Capstone\\\\Syllabi\\\\2017-18\\\\Fall 2017/Fall 2017 OMIS 2355-2017Fall.pdf',\n",
       " 'C:\\\\Users\\\\Nachiket\\\\Desktop\\\\Capstone\\\\Syllabi\\\\2017-18\\\\Fall 2017/Fall 2017 OMIS 3200 - FA 17 - WARREN.pdf',\n",
       " 'C:\\\\Users\\\\Nachiket\\\\Desktop\\\\Capstone\\\\Syllabi\\\\2017-18\\\\Fall 2017/Fall 2017 OMIS 3200 - FA 17B - WARREN.pdf',\n",
       " 'C:\\\\Users\\\\Nachiket\\\\Desktop\\\\Capstone\\\\Syllabi\\\\2017-18\\\\Fall 2017/Fall 2017 OMIS 3250Syllabus.pdf',\n",
       " 'C:\\\\Users\\\\Nachiket\\\\Desktop\\\\Capstone\\\\Syllabi\\\\2017-18\\\\Fall 2017/Fall 2017 OMIS2355-2017Fall.pdf',\n",
       " 'C:\\\\Users\\\\Nachiket\\\\Desktop\\\\Capstone\\\\Syllabi\\\\2017-18\\\\Fall 2017/Fall 2017 OMIS34 Syllabus .pdf',\n",
       " 'C:\\\\Users\\\\Nachiket\\\\Desktop\\\\Capstone\\\\Syllabi\\\\2017-18\\\\Fall 2017/Fall 2017 SylabusFall2017-MSIS605.pdf',\n",
       " 'C:\\\\Users\\\\Nachiket\\\\Desktop\\\\Capstone\\\\Syllabi\\\\2017-18\\\\Fall 2017/Fall 2017 Syllabus-OMIS 2392-01_Fall 2017.pdf',\n",
       " 'C:\\\\Users\\\\Nachiket\\\\Desktop\\\\Capstone\\\\Syllabi\\\\2017-18\\\\Fall 2017/Fall 2017 Syllabus-OMIS 2392-02_Fall 2017.pdf',\n",
       " 'C:\\\\Users\\\\Nachiket\\\\Desktop\\\\Capstone\\\\Syllabi\\\\2017-18\\\\Fall 2017/Spring2017OMIS15CourseSyllabus.pdf',\n",
       " 'C:\\\\Users\\\\Nachiket\\\\Desktop\\\\Capstone\\\\Syllabi\\\\2017-18\\\\Spring 2018/OMIS 3000 - SP18 - WARREN.pdf',\n",
       " 'C:\\\\Users\\\\Nachiket\\\\Desktop\\\\Capstone\\\\Syllabi\\\\2017-18\\\\Spring 2018/Spring 2018 MSIS 2606 Syllabus.pdf',\n",
       " 'C:\\\\Users\\\\Nachiket\\\\Desktop\\\\Capstone\\\\Syllabi\\\\2017-18\\\\Spring 2018/Spring 2018 msis2622_erp_spring_2018.pdf',\n",
       " 'C:\\\\Users\\\\Nachiket\\\\Desktop\\\\Capstone\\\\Syllabi\\\\2017-18\\\\Spring 2018/Spring 2018 MSIS2641_Spring_2018_Syllabus-Seidler.pdf',\n",
       " 'C:\\\\Users\\\\Nachiket\\\\Desktop\\\\Capstone\\\\Syllabi\\\\2017-18\\\\Spring 2018/Spring 2018 MSIS2802-IDIS3802-syllabus-Spring2018-5.45.pdf',\n",
       " 'C:\\\\Users\\\\Nachiket\\\\Desktop\\\\Capstone\\\\Syllabi\\\\2017-18\\\\Spring 2018/Spring 2018 MSIS2802-IDIS3802-syllabus-Spring2018-7.35.pdf',\n",
       " 'C:\\\\Users\\\\Nachiket\\\\Desktop\\\\Capstone\\\\Syllabi\\\\2017-18\\\\Spring 2018/Spring 2018 OMIS 105 syllabus.pdf',\n",
       " 'C:\\\\Users\\\\Nachiket\\\\Desktop\\\\Capstone\\\\Syllabi\\\\2017-18\\\\Spring 2018/Spring 2018 OMIS 108 63083 Rashidi .pdf',\n",
       " 'C:\\\\Users\\\\Nachiket\\\\Desktop\\\\Capstone\\\\Syllabi\\\\2017-18\\\\Spring 2018/Spring 2018 OMIS 3250 Syllabus.pdf',\n",
       " 'C:\\\\Users\\\\Nachiket\\\\Desktop\\\\Capstone\\\\Syllabi\\\\2017-18\\\\Spring 2018/Spring 2018 OMIS 40 (67236) Spring 2018 Syllabus.pdf',\n",
       " 'C:\\\\Users\\\\Nachiket\\\\Desktop\\\\Capstone\\\\Syllabi\\\\2017-18\\\\Spring 2018/Spring 2018 OMIS 43.pdf',\n",
       " 'C:\\\\Users\\\\Nachiket\\\\Desktop\\\\Capstone\\\\Syllabi\\\\2017-18\\\\Spring 2018/Spring 2018 omis150_fis_spring_2018.pdf',\n",
       " 'C:\\\\Users\\\\Nachiket\\\\Desktop\\\\Capstone\\\\Syllabi\\\\2017-18\\\\Spring 2018/Spring 2018 Syllabus-OMIS 2392.pdf',\n",
       " 'C:\\\\Users\\\\Nachiket\\\\Desktop\\\\Capstone\\\\Syllabi\\\\2017-18\\\\Spring 2018/SylabusSpring2018-MSIS605.pdf',\n",
       " 'C:\\\\Users\\\\Nachiket\\\\Desktop\\\\Capstone\\\\Syllabi\\\\2017-18\\\\Summer 2018/MSIS2601-Outline.pdf',\n",
       " 'C:\\\\Users\\\\Nachiket\\\\Desktop\\\\Capstone\\\\Syllabi\\\\2017-18\\\\Summer 2018/OMIS3200_Summer2018-70706.pdf',\n",
       " 'C:\\\\Users\\\\Nachiket\\\\Desktop\\\\Capstone\\\\Syllabi\\\\2017-18\\\\Winter 2018/Winter 2018 MSIS2641_Winter2018_Syllabus-Seidler.pdf',\n",
       " 'C:\\\\Users\\\\Nachiket\\\\Desktop\\\\Capstone\\\\Syllabi\\\\2017-18\\\\Winter 2018/Winter 2018 OMIS 107 Samorani.pdf',\n",
       " 'C:\\\\Users\\\\Nachiket\\\\Desktop\\\\Capstone\\\\Syllabi\\\\2017-18\\\\Winter 2018/Winter 2018 OMIS 34 Syllabus Callahan.pdf',\n",
       " 'C:\\\\Users\\\\Nachiket\\\\Desktop\\\\Capstone\\\\Syllabi\\\\2017-18\\\\Winter 2018/Winter 2018 OMIS 40 Rashidi.pdf',\n",
       " 'C:\\\\Users\\\\Nachiket\\\\Desktop\\\\Capstone\\\\Syllabi\\\\2017-18\\\\Winter 2018/Winter 2018 Syllabus OMIS3000.pdf',\n",
       " 'C:\\\\Users\\\\Nachiket\\\\Desktop\\\\Capstone\\\\Syllabi\\\\2017-18\\\\Winter 2018/Winter 2018 Syllabus_OMIS108E_Winter2018_E01.pdf',\n",
       " 'C:\\\\Users\\\\Nachiket\\\\Desktop\\\\Capstone\\\\Syllabi\\\\2017-18\\\\Winter 2018/Winter 2018 Syllabus_OMIS108_Winter2018_01.pdf',\n",
       " 'C:\\\\Users\\\\Nachiket\\\\Desktop\\\\Capstone\\\\Syllabi\\\\2017-18\\\\Winter 2018/Winter 2018 Syllabus_OMIS108_Winter2018_03.pdf',\n",
       " 'C:\\\\Users\\\\Nachiket\\\\Desktop\\\\Capstone\\\\Syllabi\\\\2018-19\\\\Fall 2018/1Course Syllabus OMIS3000.pdf',\n",
       " 'C:\\\\Users\\\\Nachiket\\\\Desktop\\\\Capstone\\\\Syllabi\\\\2018-19\\\\Fall 2018/2018 Fall OMIS3250 Syllabus 2018.08.30.pdf',\n",
       " 'C:\\\\Users\\\\Nachiket\\\\Desktop\\\\Capstone\\\\Syllabi\\\\2018-19\\\\Fall 2018/2018Fall-OMIS114-syllabus.pdf',\n",
       " 'C:\\\\Users\\\\Nachiket\\\\Desktop\\\\Capstone\\\\Syllabi\\\\2018-19\\\\Fall 2018/ECON 43 Kevane Fall 2018.pdf',\n",
       " 'C:\\\\Users\\\\Nachiket\\\\Desktop\\\\Capstone\\\\Syllabi\\\\2018-19\\\\Fall 2018/Fall 2018 OMIS 30 - Intro to Programming Syllabus.pdf',\n",
       " 'C:\\\\Users\\\\Nachiket\\\\Desktop\\\\Capstone\\\\Syllabi\\\\2018-19\\\\Fall 2018/Fall 2018 OMIS 3352 - WARREN - FA 18.pdf',\n",
       " 'C:\\\\Users\\\\Nachiket\\\\Desktop\\\\Capstone\\\\Syllabi\\\\2018-19\\\\Fall 2018/MSIS_2624_F2018.pdf',\n",
       " 'C:\\\\Users\\\\Nachiket\\\\Desktop\\\\Capstone\\\\Syllabi\\\\2018-19\\\\Fall 2018/OMIS 30 - Fall 2018 M.Vrdoljak.pdf',\n",
       " 'C:\\\\Users\\\\Nachiket\\\\Desktop\\\\Capstone\\\\Syllabi\\\\2018-19\\\\Fall 2018/OMIS3252-2018-Fall.pdf',\n",
       " 'C:\\\\Users\\\\Nachiket\\\\Desktop\\\\Capstone\\\\Syllabi\\\\2018-19\\\\Fall 2018/Syllabus OMIS 2355 -2.pdf',\n",
       " 'C:\\\\Users\\\\Nachiket\\\\Desktop\\\\Capstone\\\\Syllabi\\\\2018-19\\\\Fall 2018/Syllabus OMIS 3390 Fall 2018.pdf',\n",
       " 'C:\\\\Users\\\\Nachiket\\\\Desktop\\\\Capstone\\\\Syllabi\\\\2018-19\\\\Fall 2018/Syllabus_OMIS108_Fall 2018_02.pdf',\n",
       " 'C:\\\\Users\\\\Nachiket\\\\Desktop\\\\Capstone\\\\Syllabi\\\\2018-19\\\\Fall 2018/Syllabus_OMIS108_Fall 2018_03.pdf',\n",
       " 'C:\\\\Users\\\\Nachiket\\\\Desktop\\\\Capstone\\\\Syllabi\\\\2018-19\\\\Fall 2018/Syllabus_OMIS108_Fall 2018_04.pdf',\n",
       " 'C:\\\\Users\\\\Nachiket\\\\Desktop\\\\Capstone\\\\Syllabi\\\\2018-19\\\\Winter 2019/OMIS 40 (79185) Winter 2019 Syllabus.pdf',\n",
       " 'C:\\\\Users\\\\Nachiket\\\\Desktop\\\\Capstone\\\\Syllabi\\\\2019-2020\\\\Fall 2019/2019 Kadambi OMIS34 Syllabus_Fall2019PDS.pdf',\n",
       " 'C:\\\\Users\\\\Nachiket\\\\Desktop\\\\Capstone\\\\Syllabi\\\\2019-2020\\\\Fall 2019/MSIS 2406 Chung.pdf',\n",
       " 'C:\\\\Users\\\\Nachiket\\\\Desktop\\\\Capstone\\\\Syllabi\\\\2019-2020\\\\Fall 2019/MSIS 2607 Tan.pdf',\n",
       " 'C:\\\\Users\\\\Nachiket\\\\Desktop\\\\Capstone\\\\Syllabi\\\\2019-2020\\\\Fall 2019/MSIS 2629 Schermann.pdf',\n",
       " 'C:\\\\Users\\\\Nachiket\\\\Desktop\\\\Capstone\\\\Syllabi\\\\2019-2020\\\\Fall 2019/MSIS 2641 Seidler.pdf',\n",
       " 'C:\\\\Users\\\\Nachiket\\\\Desktop\\\\Capstone\\\\Syllabi\\\\2019-2020\\\\Fall 2019/MSIS 2691 Silicon Valley Exposure.pdf',\n",
       " 'C:\\\\Users\\\\Nachiket\\\\Desktop\\\\Capstone\\\\Syllabi\\\\2019-2020\\\\Fall 2019/OMIS 105 Syllabus.pdf',\n",
       " 'C:\\\\Users\\\\Nachiket\\\\Desktop\\\\Capstone\\\\Syllabi\\\\2019-2020\\\\Fall 2019/OMIS 106 Chung.pdf',\n",
       " 'C:\\\\Users\\\\Nachiket\\\\Desktop\\\\Capstone\\\\Syllabi\\\\2019-2020\\\\Fall 2019/OMIS 114 Tan.pdf',\n",
       " 'C:\\\\Users\\\\Nachiket\\\\Desktop\\\\Capstone\\\\Syllabi\\\\2019-2020\\\\Fall 2019/OMIS 3000 - F19 - WARREN.pdf',\n",
       " 'C:\\\\Users\\\\Nachiket\\\\Desktop\\\\Capstone\\\\Syllabi\\\\2019-2020\\\\Fall 2019/OMIS 40 - Statistics and Data Analysis I - Rashidi - FALL 2019.pdf',\n",
       " 'C:\\\\Users\\\\Nachiket\\\\Desktop\\\\Capstone\\\\Syllabi\\\\2019-2020\\\\Fall 2019/OMIS3200-92357-FA19-WARREN.pdf',\n",
       " 'C:\\\\Users\\\\Nachiket\\\\Desktop\\\\Capstone\\\\Syllabi\\\\2019-2020\\\\Fall 2019/OMIS3200-92358-FA19-WARREN.pdf',\n",
       " 'C:\\\\Users\\\\Nachiket\\\\Desktop\\\\Capstone\\\\Syllabi\\\\2019-2020\\\\Fall 2019/SCM Course Syllabus.pdf',\n",
       " 'C:\\\\Users\\\\Nachiket\\\\Desktop\\\\Capstone\\\\Syllabi\\\\2019-2020\\\\Fall 2019/syllabus.pdf',\n",
       " 'C:\\\\Users\\\\Nachiket\\\\Desktop\\\\Capstone\\\\Syllabi\\\\2019-2020\\\\Fall 2019/Syllabus_OMIS108_2019F.pdf',\n",
       " 'C:\\\\Users\\\\Nachiket\\\\Desktop\\\\Capstone\\\\Syllabi\\\\2019-2020\\\\Fall 2019/Syllabus_OMIS109_Prescriptive Analytics_2019F.pdf',\n",
       " 'C:\\\\Users\\\\Nachiket\\\\Desktop\\\\Capstone\\\\Syllabi\\\\2019-2020\\\\Fall 2019/VRDOLJAK OMIS 30 - Intro to Programming Syllabus.pdf',\n",
       " 'C:\\\\Users\\\\Nachiket\\\\Desktop\\\\Capstone\\\\Syllabi\\\\2019-2020\\\\Fall 2019/VRDOLJAK Syllabus-MSIS2506-Fall2019.pdf',\n",
       " 'C:\\\\Users\\\\Nachiket\\\\Desktop\\\\Capstone\\\\Syllabi\\\\2019-2020\\\\Winter 2020/OMIS 137 Winter 2020 Syllabus.pdf',\n",
       " 'C:\\\\Users\\\\Nachiket\\\\Desktop\\\\Capstone\\\\Syllabi\\\\2019-2020\\\\Winter 2020/OMIS 40 (95188) Winter 2020 Syllabus.pdf']"
      ]
     },
     "execution_count": 53,
     "metadata": {},
     "output_type": "execute_result"
    }
   ],
   "source": [
    "rootpdf"
   ]
  },
  {
   "cell_type": "code",
   "execution_count": 54,
   "metadata": {},
   "outputs": [
    {
     "data": {
      "text/plain": [
       "['C:\\\\Users\\\\Nachiket\\\\Desktop\\\\Capstone\\\\Syllabi\\\\2017-18\\\\Fall 2017/Fall 2017 OMIS 41 syllabus Fall 2017A.doc',\n",
       " 'C:\\\\Users\\\\Nachiket\\\\Desktop\\\\Capstone\\\\Syllabi\\\\2017-18\\\\Fall 2017/Fall 2017 OMIS 41_3_Statistics Data Analysis II_Fall 2017_syllabus    9_18_2017.doc',\n",
       " 'C:\\\\Users\\\\Nachiket\\\\Desktop\\\\Capstone\\\\Syllabi\\\\2017-18\\\\Fall 2017/Fall 2017 OMIS 41_4_Statistics Data Analysis II_Fall 2017_syllabus    9_18_2017.doc',\n",
       " 'C:\\\\Users\\\\Nachiket\\\\Desktop\\\\Capstone\\\\Syllabi\\\\2017-18\\\\Spring 2018/Spring 2018 OMIS 3200 SCU Quantitative Methods_5 weeks_OMIS 3200_MW Spring 2018_Syllabus   5_1_2018.doc',\n",
       " 'C:\\\\Users\\\\Nachiket\\\\Desktop\\\\Capstone\\\\Syllabi\\\\2017-18\\\\Spring 2018/Spring 2018 OMIS 40-3  Syllabus_Statistics _ Data Analysis I_TTH 830_Syllabus_Spring 2018.doc',\n",
       " 'C:\\\\Users\\\\Nachiket\\\\Desktop\\\\Capstone\\\\Syllabi\\\\2017-18\\\\Spring 2018/Spring 2018 OMIS 40-4  Syllabus_Statistics _ Data Analysis I_TTH 1210_Syllabus_Spring 2018.doc',\n",
       " 'C:\\\\Users\\\\Nachiket\\\\Desktop\\\\Capstone\\\\Syllabi\\\\2017-18\\\\Spring 2018/Spring 2018 OMIS 40_2  Statistics Data Analysis I_MWF  1145_Syllabus_Spring  2018.doc',\n",
       " 'C:\\\\Users\\\\Nachiket\\\\Desktop\\\\Capstone\\\\Syllabi\\\\2017-18\\\\Spring 2018/Spring 2018 OMIS 41 syllabus Spring 2018A.doc',\n",
       " 'C:\\\\Users\\\\Nachiket\\\\Desktop\\\\Capstone\\\\Syllabi\\\\2017-18\\\\Spring 2018/Spring 2018 OMIS 41_01  Statistics and Data AnalysisII_MWF  800_Spring 2018_syllabus   3_5_2018.doc',\n",
       " 'C:\\\\Users\\\\Nachiket\\\\Desktop\\\\Capstone\\\\Syllabi\\\\2017-18\\\\Spring 2018/Spring 2018 SCU Quantitative Methods_5 weeks_OMIS 3200_MW Spring 2018_Syllabus   3_28_2018.doc',\n",
       " 'C:\\\\Users\\\\Nachiket\\\\Desktop\\\\Capstone\\\\Syllabi\\\\2017-18\\\\Summer 2018/OMIS 41 Statistics Data Analysis II_TTH_Summer I  2018_syllabus     6_21_2018.doc',\n",
       " 'C:\\\\Users\\\\Nachiket\\\\Desktop\\\\Capstone\\\\Syllabi\\\\2017-18\\\\Winter 2018/Winter 2018 OMIS 40 syllabus Schaffzin.doc',\n",
       " 'C:\\\\Users\\\\Nachiket\\\\Desktop\\\\Capstone\\\\Syllabi\\\\2017-18\\\\Winter 2018/Winter 2018 OMIS 41 - Nahmias .doc',\n",
       " 'C:\\\\Users\\\\Nachiket\\\\Desktop\\\\Capstone\\\\Syllabi\\\\2018-19\\\\Fall 2018/OMIS 40_3_Statistics Data Analysis I_TTH 830_ Syllabus_Fall 2018    9_15_2018.doc',\n",
       " 'C:\\\\Users\\\\Nachiket\\\\Desktop\\\\Capstone\\\\Syllabi\\\\2018-19\\\\Fall 2018/OMIS 41 syllabus Fall 2018A.doc',\n",
       " 'C:\\\\Users\\\\Nachiket\\\\Desktop\\\\Capstone\\\\Syllabi\\\\2018-19\\\\Fall 2018/OMIS 41_01  Statistics and Data AnalysisII_MWF 800_Fall 2018_syllabus   9_15_2018.doc',\n",
       " 'C:\\\\Users\\\\Nachiket\\\\Desktop\\\\Capstone\\\\Syllabi\\\\2018-19\\\\Fall 2018/SCU Quantitative Methods_5 weeks_OMIS 3200_TTH  FALL 2018_Syllabus   11_21_2018.doc',\n",
       " 'C:\\\\Users\\\\Nachiket\\\\Desktop\\\\Capstone\\\\Syllabi\\\\2018-19\\\\Summer 2019/OMIS40-1  Statistics _ Data Analysis I_TTH_Syllabus_Summer II 2019      7_29_2019.doc',\n",
       " 'C:\\\\Users\\\\Nachiket\\\\Desktop\\\\Capstone\\\\Syllabi\\\\2018-19\\\\Winter 2019/41 Syllabus Winter 2019.doc',\n",
       " 'C:\\\\Users\\\\Nachiket\\\\Desktop\\\\Capstone\\\\Syllabi\\\\2018-19\\\\Winter 2019/OMIS 40_1_Statistics Data Analysis I_TTH 830_ Syllabus_Winter 2019   1_8_2019.doc',\n",
       " 'C:\\\\Users\\\\Nachiket\\\\Desktop\\\\Capstone\\\\Syllabi\\\\2018-19\\\\Winter 2019/OMIS 40_2_Statistics Data Analysis I_TTH_ 1210_Syllabus_Winter 2019   1_8_2019.doc',\n",
       " 'C:\\\\Users\\\\Nachiket\\\\Desktop\\\\Capstone\\\\Syllabi\\\\2019-2020\\\\Fall 2019/OMIS 40 Fatemi (1).doc',\n",
       " 'C:\\\\Users\\\\Nachiket\\\\Desktop\\\\Capstone\\\\Syllabi\\\\2019-2020\\\\Fall 2019/OMIS 40 Fatemi.doc',\n",
       " 'C:\\\\Users\\\\Nachiket\\\\Desktop\\\\Capstone\\\\Syllabi\\\\2019-2020\\\\Fall 2019/OMIS 41 Fatemi.doc',\n",
       " 'C:\\\\Users\\\\Nachiket\\\\Desktop\\\\Capstone\\\\Syllabi\\\\2019-2020\\\\Fall 2019/OMIS 41 Schaffzin.doc',\n",
       " 'C:\\\\Users\\\\Nachiket\\\\Desktop\\\\Capstone\\\\Syllabi\\\\2019-2020\\\\Fall 2019/SCU Quantitative Methods_5 weeks_OMIS 3200_MW  FALL 2019_Syllabus   10_28_2019.doc',\n",
       " 'C:\\\\Users\\\\Nachiket\\\\Desktop\\\\Capstone\\\\Syllabi\\\\2019-2020\\\\Winter 2020/OMIS 40_1_Statistics Data Analysis I_TTH 830_ Syllabus_Winter 2020   1_7_2020.doc',\n",
       " 'C:\\\\Users\\\\Nachiket\\\\Desktop\\\\Capstone\\\\Syllabi\\\\2019-2020\\\\Winter 2020/OMIS 40_3_Statistics Data Analysis I_TTH_ 1210_Syllabus_Winter 2020   1_7_2020.doc',\n",
       " 'C:\\\\Users\\\\Nachiket\\\\Desktop\\\\Capstone\\\\Syllabi\\\\2019-2020\\\\Winter 2020/SCU OMIS3202_Analytical Decision Making_MW545 Winter 2020_Syllabus     2_10_2020.doc',\n",
       " 'C:\\\\Users\\\\Nachiket\\\\Desktop\\\\Capstone\\\\Syllabi\\\\2019-2020\\\\Winter 2020/SCU OMIS3202_Analytical Decision Making_MW735 Winter 2020_Syllabus     2_10_2020.doc',\n",
       " 'C:\\\\Users\\\\Nachiket\\\\Desktop\\\\Capstone\\\\Syllabi\\\\2019-2020\\\\Winter 2020/SCU OMIS3202_Analytical Decision Making_TTH735 Winter 2020_Syllabus     2_10_2020.doc']"
      ]
     },
     "execution_count": 54,
     "metadata": {},
     "output_type": "execute_result"
    }
   ],
   "source": [
    "rootdoc"
   ]
  },
  {
   "cell_type": "code",
   "execution_count": 55,
   "metadata": {},
   "outputs": [
    {
     "data": {
      "text/plain": [
       "['C:\\\\Users\\\\Nachiket\\\\Desktop\\\\Capstone\\\\Syllabi\\\\2017-18\\\\Fall 2017/Fall 2017 40 Syllabus Fall 2017.docx',\n",
       " 'C:\\\\Users\\\\Nachiket\\\\Desktop\\\\Capstone\\\\Syllabi\\\\2017-18\\\\Fall 2017/Fall 2017 MSIS 2602 syllabus_Fall 2017.docx',\n",
       " 'C:\\\\Users\\\\Nachiket\\\\Desktop\\\\Capstone\\\\Syllabi\\\\2017-18\\\\Fall 2017/Fall 2017 MSIS2604 Syllabus -- Fall 2017.docx',\n",
       " 'C:\\\\Users\\\\Nachiket\\\\Desktop\\\\Capstone\\\\Syllabi\\\\2017-18\\\\Winter 2018/Winter 2018 2603 - Winter 2018 Syllabus.docx',\n",
       " 'C:\\\\Users\\\\Nachiket\\\\Desktop\\\\Capstone\\\\Syllabi\\\\2017-18\\\\Winter 2018/Winter 2018 63945-MSIS2802-68943-IDIS3802-syllabus-Winter2018.docx',\n",
       " 'C:\\\\Users\\\\Nachiket\\\\Desktop\\\\Capstone\\\\Syllabi\\\\2017-18\\\\Winter 2018/Winter 2018 63946-MSIS2802-68943-IDIS3802-syllabus-Winter2018.docx',\n",
       " 'C:\\\\Users\\\\Nachiket\\\\Desktop\\\\Capstone\\\\Syllabi\\\\2017-18\\\\Winter 2018/Winter 2018 Escobar_OMIS 015_W18_R_Syllabus.docx',\n",
       " 'C:\\\\Users\\\\Nachiket\\\\Desktop\\\\Capstone\\\\Syllabi\\\\2017-18\\\\Winter 2018/Winter 2018 Escobar_OMIS 015_W18_T_Syllabus.docx',\n",
       " 'C:\\\\Users\\\\Nachiket\\\\Desktop\\\\Capstone\\\\Syllabi\\\\2017-18\\\\Winter 2018/Winter 2018 MSIS2606 Syllabus.docx',\n",
       " 'C:\\\\Users\\\\Nachiket\\\\Desktop\\\\Capstone\\\\Syllabi\\\\2018-19\\\\Fall 2018/1OMIS34 Syllabus FALL 2018 Sep 11.docx',\n",
       " 'C:\\\\Users\\\\Nachiket\\\\Desktop\\\\Capstone\\\\Syllabi\\\\2018-19\\\\Fall 2018/40 Syllabus Fall 2018.docx',\n",
       " 'C:\\\\Users\\\\Nachiket\\\\Desktop\\\\Capstone\\\\Syllabi\\\\2018-19\\\\Fall 2018/602syllabus_Fall_18(1).docx',\n",
       " 'C:\\\\Users\\\\Nachiket\\\\Desktop\\\\Capstone\\\\Syllabi\\\\2018-19\\\\Fall 2018/Copy of MSIS2604 Syllabus -- Fall 2018.docx',\n",
       " 'C:\\\\Users\\\\Nachiket\\\\Desktop\\\\Capstone\\\\Syllabi\\\\2018-19\\\\Fall 2018/Escobar-Ochoa Fall18 Thursday Syllabus.docx',\n",
       " 'C:\\\\Users\\\\Nachiket\\\\Desktop\\\\Capstone\\\\Syllabi\\\\2018-19\\\\Fall 2018/Escobar-Ochoa Fall18 Tuesday Syllabus.docx',\n",
       " 'C:\\\\Users\\\\Nachiket\\\\Desktop\\\\Capstone\\\\Syllabi\\\\2018-19\\\\Fall 2018/MSIS2604 Syllabus -- Fall 2018.docx',\n",
       " 'C:\\\\Users\\\\Nachiket\\\\Desktop\\\\Capstone\\\\Syllabi\\\\2018-19\\\\Fall 2018/OMIS34 Syllabus_Fall2018 .docx',\n",
       " 'C:\\\\Users\\\\Nachiket\\\\Desktop\\\\Capstone\\\\Syllabi\\\\2018-19\\\\Fall 2018/Syllabus OMIS 3390 Fall 2018.docx',\n",
       " 'C:\\\\Users\\\\Nachiket\\\\Desktop\\\\Capstone\\\\Syllabi\\\\2018-19\\\\Summer 2019/Challenges in Business Analytics - Course Strcuture.docx',\n",
       " 'C:\\\\Users\\\\Nachiket\\\\Desktop\\\\Capstone\\\\Syllabi\\\\2018-19\\\\Winter 2019/00OMIS34 Syllabus Winter 2019.docx',\n",
       " 'C:\\\\Users\\\\Nachiket\\\\Desktop\\\\Capstone\\\\Syllabi\\\\2019-2020\\\\Fall 2019/Escobar_OMIS015_1_F19_Syllabus.docx',\n",
       " 'C:\\\\Users\\\\Nachiket\\\\Desktop\\\\Capstone\\\\Syllabi\\\\2019-2020\\\\Fall 2019/Escobar_OMIS015_2_F19_Syllabus.docx',\n",
       " 'C:\\\\Users\\\\Nachiket\\\\Desktop\\\\Capstone\\\\Syllabi\\\\2019-2020\\\\Fall 2019/MSIS 2627 Parsian.docx',\n",
       " 'C:\\\\Users\\\\Nachiket\\\\Desktop\\\\Capstone\\\\Syllabi\\\\2019-2020\\\\Fall 2019/OMIS 108 2019  FALL updated for 8.00 MWF new.docx',\n",
       " 'C:\\\\Users\\\\Nachiket\\\\Desktop\\\\Capstone\\\\Syllabi\\\\2019-2020\\\\Fall 2019/OMIS 2598 Syllabus -- Internship v4.0.docx',\n",
       " 'C:\\\\Users\\\\Nachiket\\\\Desktop\\\\Capstone\\\\Syllabi\\\\2019-2020\\\\Fall 2019/OMIS 30 Knourek .rtf',\n",
       " 'C:\\\\Users\\\\Nachiket\\\\Desktop\\\\Capstone\\\\Syllabi\\\\2019-2020\\\\Fall 2019/OMIS 34 Kapur Project Guide.docx',\n",
       " 'C:\\\\Users\\\\Nachiket\\\\Desktop\\\\Capstone\\\\Syllabi\\\\2019-2020\\\\Fall 2019/OMIS 34 Kapur.docx',\n",
       " 'C:\\\\Users\\\\Nachiket\\\\Desktop\\\\Capstone\\\\Syllabi\\\\2019-2020\\\\Fall 2019/OMIS 40 Nahmias.docx',\n",
       " 'C:\\\\Users\\\\Nachiket\\\\Desktop\\\\Capstone\\\\Syllabi\\\\2019-2020\\\\Winter 2020/602syllabus_winter_20.docx',\n",
       " 'C:\\\\Users\\\\Nachiket\\\\Desktop\\\\Capstone\\\\Syllabi\\\\2019-2020\\\\Winter 2020/dbSyllabus.docx',\n",
       " 'C:\\\\Users\\\\Nachiket\\\\Desktop\\\\Capstone\\\\Syllabi\\\\2019-2020\\\\Winter 2020/OMIS 108 2020  WINTER updated for MWF.docx',\n",
       " 'C:\\\\Users\\\\Nachiket\\\\Desktop\\\\Capstone\\\\Syllabi\\\\2019-2020\\\\Winter 2020/OMIS34 Syllabus 2020 winter updated 10.20.docx',\n",
       " 'C:\\\\Users\\\\Nachiket\\\\Desktop\\\\Capstone\\\\Syllabi\\\\2019-2020\\\\Winter 2020/OMIS34 Syllabus_Wtr2020 .docx',\n",
       " 'C:\\\\Users\\\\Nachiket\\\\Desktop\\\\Capstone\\\\Syllabi\\\\2019-2020\\\\Winter 2020/Sahan OMIS30 Winter 2020 (1).docx',\n",
       " 'C:\\\\Users\\\\Nachiket\\\\Desktop\\\\Capstone\\\\Syllabi\\\\2019-2020\\\\Winter 2020/Sahan OMIS30 Winter 2020.docx',\n",
       " 'C:\\\\Users\\\\Nachiket\\\\Desktop\\\\Capstone\\\\Syllabi\\\\2019-2020\\\\Winter 2020/sqlSyllabus (1).docx',\n",
       " 'C:\\\\Users\\\\Nachiket\\\\Desktop\\\\Capstone\\\\Syllabi\\\\2019-2020\\\\Winter 2020/sqlSyllabus.docx',\n",
       " 'C:\\\\Users\\\\Nachiket\\\\Desktop\\\\Capstone\\\\Syllabi\\\\2019-2020\\\\Winter 2020/Syllabus-Seidler Fall 2020.docx',\n",
       " 'C:\\\\Users\\\\Nachiket\\\\Desktop\\\\Capstone\\\\Syllabi\\\\2019-2020\\\\Winter 2020/W20-OMIS 015-95204-Escobar.docx',\n",
       " 'C:\\\\Users\\\\Nachiket\\\\Desktop\\\\Capstone\\\\Syllabi\\\\2019-2020\\\\Winter 2020/W20-OMIS 015-95206-Escobar.docx']"
      ]
     },
     "execution_count": 55,
     "metadata": {},
     "output_type": "execute_result"
    }
   ],
   "source": [
    "rootdocx"
   ]
  }
 ],
 "metadata": {
  "kernelspec": {
   "display_name": "Python 3",
   "language": "python",
   "name": "python3"
  },
  "language_info": {
   "codemirror_mode": {
    "name": "ipython",
    "version": 3
   },
   "file_extension": ".py",
   "mimetype": "text/x-python",
   "name": "python",
   "nbconvert_exporter": "python",
   "pygments_lexer": "ipython3",
   "version": "3.6.7"
  }
 },
 "nbformat": 4,
 "nbformat_minor": 2
}
